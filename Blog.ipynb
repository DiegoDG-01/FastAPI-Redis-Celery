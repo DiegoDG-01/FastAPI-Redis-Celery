{
 "cells": [
  {
   "cell_type": "code",
   "execution_count": 1,
   "outputs": [],
   "source": [
    "# Se importa uvicorn para poder ejecutar la aplicación desde el notebook\n",
    "import uvicorn\n",
    "\n",
    "# Archivo principal de la aplicación\n",
    "# 1. Importar FastAPI\n",
    "# 2. Importamos HTTPException para poder devolver errores HTTP\n",
    "from fastapi import FastAPI\n",
    "from fastapi import HTTPException\n",
    "\n",
    "# Importamos las tareas que queremos ejecutar de manera asíncrona\n",
    "from tasks import add, mul\n"
   ],
   "metadata": {
    "collapsed": false,
    "ExecuteTime": {
     "end_time": "2023-06-30T19:35:51.610192Z",
     "start_time": "2023-06-30T19:35:51.416557Z"
    }
   }
  },
  {
   "cell_type": "code",
   "execution_count": 2,
   "outputs": [],
   "source": [
    "# 3. Crear una instancia de FastAPI\n",
    "# title: Título de la API\n",
    "# description: Descripción de la API\n",
    "# version: Versión de la API\n",
    "app = FastAPI(title=\"DiegoDG.com.mx\", description=\"API para probar FastAPI, Redis y Celery\", version=\"1.0\")"
   ],
   "metadata": {
    "collapsed": false,
    "ExecuteTime": {
     "end_time": "2023-06-30T19:35:51.612614Z",
     "start_time": "2023-06-30T19:35:51.611393Z"
    }
   }
  },
  {
   "cell_type": "code",
   "execution_count": 3,
   "outputs": [],
   "source": [
    "# 4. Creamos unas rutas sencilla\n",
    "# get: Método HTTP\n",
    "# /: Ruta\n",
    "@app.get(\"/\")\n",
    "def index():\n",
    "    return {\"message\": \"Hola Mundo\"}\n",
    "\n",
    "# get: Método HTTP\n",
    "# /suma/{a}/{b}: Ruta con parámetros\n",
    "@app.get(\"/suma/{a}/{b}\")\n",
    "def suma(a: int, b: int):\n",
    "    try:\n",
    "        # La funcion add tiene una función delay que permite enviar la tarea a Celery\n",
    "        add.delay(a, b)\n",
    "        # devolvemos un mensaje para saber que se ha enviado la tarea a Celery.\n",
    "        # Esto no quiere decir que se haya ejecutado correctamente la tarea.\n",
    "        # Nuestra tarea puede fallar en Celery es por ello que debemos de tener un manejo de errores\n",
    "        # y almacenar su resultado si es necesario\n",
    "        return {\"message\": \"Se ha enviado la tarea de sumar a Celery\"}\n",
    "    except Exception as e:\n",
    "        # Si hay un error durante el envío de la tarea a Celery, devolvemos un error HTTP\n",
    "        raise HTTPException(status_code=400, detail=str(e))\n",
    "\n",
    "\n",
    "# get: Método HTTP\n",
    "# /multiplicacion/{a}/{b}: Ruta con parámetros\n",
    "@app.get(\"/multiplicacion/{a}/{b}\")\n",
    "def multiplicacion(a: int, b: int):\n",
    "    try:\n",
    "        mul.delay(a, b)\n",
    "        return {\"message\": \"Se ha enviado la tarea de multiplicar a Celery\"}\n",
    "    except Exception as e:\n",
    "        raise HTTPException(status_code=400, detail=str(e))"
   ],
   "metadata": {
    "collapsed": false,
    "ExecuteTime": {
     "end_time": "2023-06-30T19:35:51.616544Z",
     "start_time": "2023-06-30T19:35:51.615152Z"
    }
   }
  },
  {
   "cell_type": "code",
   "execution_count": 4,
   "outputs": [
    {
     "name": "stderr",
     "output_type": "stream",
     "text": [
      "INFO:     Started server process [25952]\n",
      "INFO:     Waiting for application startup.\n",
      "INFO:     Application startup complete.\n",
      "INFO:     Uvicorn running on http://127.0.0.1:8000 (Press CTRL+C to quit)\n"
     ]
    },
    {
     "name": "stdout",
     "output_type": "stream",
     "text": [
      "INFO:     127.0.0.1:55412 - \"GET / HTTP/1.1\" 200 OK\n",
      "INFO:     127.0.0.1:55412 - \"GET / HTTP/1.1\" 200 OK\n",
      "INFO:     127.0.0.1:55412 - \"GET /docs HTTP/1.1\" 200 OK\n",
      "INFO:     127.0.0.1:55412 - \"GET /openapi.json HTTP/1.1\" 200 OK\n",
      "INFO:     127.0.0.1:55413 - \"GET /suma/1/5 HTTP/1.1\" 200 OK\n",
      "INFO:     127.0.0.1:55419 - \"GET /suma/1/5 HTTP/1.1\" 200 OK\n",
      "INFO:     127.0.0.1:55419 - \"GET /suma/1/5 HTTP/1.1\" 200 OK\n",
      "INFO:     127.0.0.1:55419 - \"GET /suma/1/5 HTTP/1.1\" 200 OK\n",
      "INFO:     127.0.0.1:55419 - \"GET /suma/1/5 HTTP/1.1\" 200 OK\n",
      "INFO:     127.0.0.1:55436 - \"GET /suma/1/5 HTTP/1.1\" 200 OK\n",
      "INFO:     127.0.0.1:55436 - \"GET /suma/1/5 HTTP/1.1\" 200 OK\n",
      "INFO:     127.0.0.1:55436 - \"GET /suma/1/5 HTTP/1.1\" 200 OK\n",
      "INFO:     127.0.0.1:55436 - \"GET /suma/1/5 HTTP/1.1\" 200 OK\n",
      "INFO:     127.0.0.1:55436 - \"GET /suma/1/5 HTTP/1.1\" 200 OK\n",
      "INFO:     127.0.0.1:55436 - \"GET /suma/1/5 HTTP/1.1\" 200 OK\n",
      "INFO:     127.0.0.1:55436 - \"GET /suma/1/5 HTTP/1.1\" 200 OK\n",
      "INFO:     127.0.0.1:55436 - \"GET /suma/1/5 HTTP/1.1\" 200 OK\n",
      "INFO:     127.0.0.1:55467 - \"GET /suma/1/5 HTTP/1.1\" 200 OK\n",
      "INFO:     127.0.0.1:55467 - \"GET /suma/1/5 HTTP/1.1\" 200 OK\n",
      "INFO:     127.0.0.1:55467 - \"GET /suma/1/5 HTTP/1.1\" 200 OK\n",
      "INFO:     127.0.0.1:55467 - \"GET /suma/1/5 HTTP/1.1\" 200 OK\n"
     ]
    },
    {
     "name": "stderr",
     "output_type": "stream",
     "text": [
      "INFO:     Shutting down\n",
      "INFO:     Waiting for application shutdown.\n",
      "INFO:     Application shutdown complete.\n",
      "INFO:     Finished server process [25952]\n"
     ]
    }
   ],
   "source": [
    "# Configuracion para poder ejecutar la aplicación desde el notebook\n",
    "# Si se ejecuta desde un archivo .py, no es necesario este bloque de código\n",
    "if __name__ == \"__main__\":\n",
    "    config = uvicorn.Config(app)\n",
    "    server = uvicorn.Server(config)\n",
    "    await server.serve()"
   ],
   "metadata": {
    "collapsed": false,
    "ExecuteTime": {
     "end_time": "2023-06-30T20:48:43.454961Z",
     "start_time": "2023-06-30T19:35:51.617514Z"
    }
   }
  }
 ],
 "metadata": {
  "kernelspec": {
   "display_name": "Python 3",
   "language": "python",
   "name": "python3"
  },
  "language_info": {
   "codemirror_mode": {
    "name": "ipython",
    "version": 2
   },
   "file_extension": ".py",
   "mimetype": "text/x-python",
   "name": "python",
   "nbconvert_exporter": "python",
   "pygments_lexer": "ipython2",
   "version": "2.7.6"
  }
 },
 "nbformat": 4,
 "nbformat_minor": 0
}
